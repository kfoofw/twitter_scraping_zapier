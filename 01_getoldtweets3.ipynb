{
 "cells": [
  {
   "cell_type": "code",
   "execution_count": 1,
   "metadata": {},
   "outputs": [],
   "source": [
    "# https://pypi.org/project/GetOldTweets3/\n",
    "\n",
    "# setSince() format: \"yyyy-mm-dd\"\n",
    "# setUntil() format: \"yyyy-mm-dd\" NOT INCLUDING\n",
    "# setNear() str,for example \"Berlin, Germany\"\n",
    "# setWithin() str,for example \"15mi\"\n",
    "# setQuerySearch() str \n",
    "# setMaxTweets() int\n",
    "# setLang() str for example \"en\"\n",
    "# setEmoji(style) str. Style must be one of 'ignore', 'unicode', or 'name'\n",
    "# setTopTweets() bool"
   ]
  },
  {
   "cell_type": "code",
   "execution_count": 2,
   "metadata": {},
   "outputs": [],
   "source": [
    "import GetOldTweets3 as got\n",
    "\n",
    "# Set Criteria\n",
    "# 2019\n",
    "tweetCriteria_2019 = got.manager.TweetCriteria().setMaxTweets(100000)\\\n",
    "                                            .setLang(\"en\")\\\n",
    "                                            .setQuerySearch(\"zapier\")\\\n",
    "                                            .setSince(\"2019-01-01\")\n",
    "\n",
    "# 2018\n",
    "tweetCriteria_2018 = got.manager.TweetCriteria().setMaxTweets(100000)\\\n",
    "                                            .setLang(\"en\")\\\n",
    "                                            .setQuerySearch(\"zapier\")\\\n",
    "                                            .setSince(\"2018-01-01\")\\\n",
    "                                            .setUntil(\"2019-01-01\")\n",
    "\n",
    "#2017\n",
    "tweetCriteria_2017 = got.manager.TweetCriteria().setMaxTweets(99999)\\\n",
    "                                            .setLang(\"en\")\\\n",
    "                                            .setQuerySearch(\"zapier\")\\\n",
    "                                            .setSince(\"2017-01-01\")\\\n",
    "                                            .setUntil(\"2018-01-01\")\n",
    "\n",
    "#2016\n",
    "tweetCriteria_2016 = got.manager.TweetCriteria().setMaxTweets(100000)\\\n",
    "                                            .setLang(\"en\")\\\n",
    "                                            .setQuerySearch(\"zapier\")\\\n",
    "                                            .setSince(\"2016-01-01\")\\\n",
    "                                            .setUntil(\"2017-01-01\")\n",
    "\n"
   ]
  },
  {
   "cell_type": "code",
   "execution_count": 3,
   "metadata": {},
   "outputs": [],
   "source": [
    "import re, sys\n",
    "\n",
    "def save_tweets_csv(tweets, filename = \"output_got.csv\"):\n",
    "\n",
    "    outputFileName = filename\n",
    "\n",
    "    outputFile = open(outputFileName, \"w+\", encoding=\"utf8\")\n",
    "\n",
    "    outputFile.write('date,username,to,replies,retweets,favorites,text,geo,mentions,hashtags,id,permalink\\n')\n",
    "\n",
    "    cnt = 0\n",
    "\n",
    "    for t in tweets:\n",
    "        data = [t.date.strftime(\"%Y-%m-%d %H:%M:%S\"),\n",
    "            t.username,\n",
    "            t.to or '',\n",
    "            t.replies,\n",
    "            t.retweets,\n",
    "            t.favorites,\n",
    "            '\"'+t.text.replace('\"','\"\"')+'\"',\n",
    "            t.geo,\n",
    "            t.mentions,\n",
    "            t.hashtags,\n",
    "            t.id,\n",
    "            t.permalink]\n",
    "        data[:] = [i if isinstance(i, str) else str(i) for i in data]\n",
    "        outputFile.write(','.join(data) + '\\n')\n",
    "\n",
    "        outputFile.flush()\n",
    "    cnt += len(tweets)\n",
    "\n",
    "    if sys.stdout.isatty():\n",
    "        print(\"\\rSaved %i\"%cnt, end='', flush=True)\n",
    "    else:\n",
    "        print(cnt, end=' ', flush=True)\n",
    "\n",
    "    return print('Done. Output file generated \"%s\".' % outputFileName)"
   ]
  },
  {
   "cell_type": "code",
   "execution_count": 4,
   "metadata": {},
   "outputs": [
    {
     "name": "stdout",
     "output_type": "stream",
     "text": [
      "27282 Done. Output file generated \"output_2019.csv\".\n"
     ]
    }
   ],
   "source": [
    "# Get tweets and save output\n",
    "tweet2019 = got.manager.TweetManager.getTweets(tweetCriteria_2019)\n",
    "save_tweets_csv(tweet2019, filename = \"./output_scrape/output_2019.csv\")"
   ]
  },
  {
   "cell_type": "code",
   "execution_count": 18,
   "metadata": {},
   "outputs": [
    {
     "name": "stdout",
     "output_type": "stream",
     "text": [
      "30943 Done. Output file generated \"output_2018.csv\".\n"
     ]
    }
   ],
   "source": [
    "tweet2018 = got.manager.TweetManager.getTweets(tweetCriteria_2018)\n",
    "save_tweets_csv(tweet2018, filename = \"./output_scrape/output_2018.csv\")"
   ]
  },
  {
   "cell_type": "code",
   "execution_count": 4,
   "metadata": {},
   "outputs": [
    {
     "name": "stdout",
     "output_type": "stream",
     "text": [
      "35534 Done. Output file generated \"output_2017.csv\".\n"
     ]
    }
   ],
   "source": [
    "tweet2017 = got.manager.TweetManager.getTweets(tweetCriteria_2017)\n",
    "save_tweets_csv(tweet2017, filename = \"./output_scrape/output_2017.csv\")"
   ]
  },
  {
   "cell_type": "code",
   "execution_count": 5,
   "metadata": {},
   "outputs": [
    {
     "name": "stdout",
     "output_type": "stream",
     "text": [
      "9878 Done. Output file generated \"output_2016.csv\".\n"
     ]
    }
   ],
   "source": [
    "tweet2016 = got.manager.TweetManager.getTweets(tweetCriteria_2016)\n",
    "save_tweets_csv(tweet2016, filename = \"./output_scrape/output_2016.csv\")"
   ]
  },
  {
   "cell_type": "code",
   "execution_count": null,
   "metadata": {},
   "outputs": [],
   "source": []
  }
 ],
 "metadata": {
  "kernelspec": {
   "display_name": "Python 3",
   "language": "python",
   "name": "python3"
  },
  "language_info": {
   "codemirror_mode": {
    "name": "ipython",
    "version": 3
   },
   "file_extension": ".py",
   "mimetype": "text/x-python",
   "name": "python",
   "nbconvert_exporter": "python",
   "pygments_lexer": "ipython3",
   "version": "3.7.3"
  }
 },
 "nbformat": 4,
 "nbformat_minor": 4
}
